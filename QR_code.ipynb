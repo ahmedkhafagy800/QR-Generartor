{
  "nbformat": 4,
  "nbformat_minor": 0,
  "metadata": {
    "colab": {
      "provenance": []
    },
    "kernelspec": {
      "name": "python3",
      "display_name": "Python 3"
    },
    "language_info": {
      "name": "python"
    }
  },
  "cells": [
    {
      "cell_type": "code",
      "source": [
        "!pip install qrcode\n",
        "!pip install validators"
      ],
      "metadata": {
        "colab": {
          "base_uri": "https://localhost:8080/"
        },
        "id": "E-bPK1S7KOCM",
        "outputId": "a3a07b96-016e-4580-af74-1de77441d34a"
      },
      "execution_count": 7,
      "outputs": [
        {
          "output_type": "stream",
          "name": "stdout",
          "text": [
            "Requirement already satisfied: qrcode in /usr/local/lib/python3.10/dist-packages (7.4.2)\n",
            "Requirement already satisfied: typing-extensions in /usr/local/lib/python3.10/dist-packages (from qrcode) (4.12.2)\n",
            "Requirement already satisfied: pypng in /usr/local/lib/python3.10/dist-packages (from qrcode) (0.20220715.0)\n",
            "Requirement already satisfied: validators in /usr/local/lib/python3.10/dist-packages (0.29.0)\n"
          ]
        }
      ]
    },
    {
      "cell_type": "code",
      "execution_count": 8,
      "metadata": {
        "id": "cGBpPS7rqBTK"
      },
      "outputs": [],
      "source": [
        "import qrcode\n",
        "import validators"
      ]
    },
    {
      "cell_type": "code",
      "source": [
        "# with validation\n",
        "\n",
        "def generate_qr(text, filename):\n",
        "    qr = qrcode.QRCode(\n",
        "        version=1,\n",
        "        error_correction=qrcode.constants.ERROR_CORRECT_L,\n",
        "        box_size=10,\n",
        "        border=4,\n",
        "    )\n",
        "    qr.add_data(text)\n",
        "    qr.make(fit=True)\n",
        "    img = qr.make_image(fill_color=\"black\", back_color=\"white\")\n",
        "    img.save(filename)\n",
        "    text = input(\"Enter your link which you want to generate QR for: \")\n",
        "    filename = \"qrcode.png\"\n",
        "    generate_qr(text, filename)\n",
        "    print(f\"QR code saved as {filename}\")\n",
        "\n",
        "\n",
        "# def is_valid_url(url):\n",
        "#     return validators.url(url)\n",
        "\n",
        "# text = input(\"Enter your link which you want to generate QR for: \")\n",
        "\n",
        "# if is_valid_url(text):\n",
        "#     filename = \"qrcode.png\"\n",
        "#     generate_qr(text, filename)\n",
        "#     print(f\"QR code saved as {filename}\")\n",
        "# else:\n",
        "#     print(\"The provided text is not a valid URL. Please enter a valid URL.\")\n"
      ],
      "metadata": {
        "id": "PIpw9-VRzSiL"
      },
      "execution_count": 10,
      "outputs": []
    },
    {
      "cell_type": "code",
      "source": [
        "#without validation\n",
        "\n",
        "\n",
        "def generate_qr(text,filename):\n",
        "  qr=qrcode.QRCode(\n",
        "      version=1,\n",
        "      error_correction=qrcode.constants.ERROR_CORRECT_L,\n",
        "      box_size=10,\n",
        "      border=4,\n",
        "  )\n",
        "  qr.add_data(text)\n",
        "  qr.make(fit=True)\n",
        "  img=qr.make_image(fill_color=\"black\",back_color=\"white\")\n",
        "  img.save(filename)\n",
        "\n",
        "text= input(\"Enter what you need to generate QR Code for it : \")\n",
        "filename=\"qrcode.png\"\n",
        "generate_qr(text,filename)\n",
        "\n",
        "\n",
        "print(f\"QR code saved as {filename}\")"
      ],
      "metadata": {
        "colab": {
          "base_uri": "https://localhost:8080/"
        },
        "id": "dlmMjDd8LIm1",
        "outputId": "0baf2da4-2272-4b34-ec9a-4537e676f008"
      },
      "execution_count": 14,
      "outputs": [
        {
          "output_type": "stream",
          "name": "stdout",
          "text": [
            "Enter what you need to generate QR Code for it : بطتيييي انا بحبك اووويييي اوويييي بجد🌚🫂♥️♥️♥️♥️ و نفسي اخدك ف حضنييي كدا بجد والف ايدي ع وسطك المز و بجد و اقعد احسس ع جسمك الملبن د كله كدااا براحتييييييييي واهريكي واموتك بوووس كدا بجد 🌚😉♥️♥️♥️♥️♥️♥️وهقطعلك شفايفك من كتر البوس د خلييي بالك🌚🌚🌚🫦 ف الموضوع انه هيبقي اغتصااااااب كامل كدهوووو🙈♥️♥️♥️♥️♥️ بحبك اوووييييي ي احلي حاجه ف حياتييييييي🌚🫂♥️♥️♥️♥️♥️♥️♥️\n",
            "QR code saved as qrcode.png\n"
          ]
        }
      ]
    }
  ]
}