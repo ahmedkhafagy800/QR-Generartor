{
  "nbformat": 4,
  "nbformat_minor": 0,
  "metadata": {
    "colab": {
      "provenance": []
    },
    "kernelspec": {
      "name": "python3",
      "display_name": "Python 3"
    },
    "language_info": {
      "name": "python"
    }
  },
  "cells": [
    {
      "cell_type": "code",
      "execution_count": 21,
      "metadata": {
        "id": "cGBpPS7rqBTK"
      },
      "outputs": [],
      "source": [
        "import qrcode"
      ]
    },
    {
      "cell_type": "code",
      "source": [
        "def generate_qr(text,filename):\n",
        "  qr=qrcode.QRCode(\n",
        "      version=1,\n",
        "      error_correction=qrcode.constants.ERROR_CORRECT_L,\n",
        "      box_size=10,\n",
        "      border=4,\n",
        "  )\n",
        "  qr.add_data(text)\n",
        "  qr.make(fit=True)\n",
        "  img=qr.make_image(fill_color=\"black\",back_color=\"white\")\n",
        "  img.save(filename)\n",
        "\n",
        "text=\"https://web.whatsapp.com/\"\n",
        "filename=\"qrcode.png\"\n",
        "generate_qr(text,filename)\n",
        "print(f\"QR code saved as {filename}\")"
      ],
      "metadata": {
        "colab": {
          "base_uri": "https://localhost:8080/"
        },
        "id": "PIpw9-VRzSiL",
        "outputId": "58259241-b732-4137-fa94-4fb2aa671600"
      },
      "execution_count": 23,
      "outputs": [
        {
          "output_type": "stream",
          "name": "stdout",
          "text": [
            "QR code saved as qrcode.png\n"
          ]
        }
      ]
    }
  ]
}